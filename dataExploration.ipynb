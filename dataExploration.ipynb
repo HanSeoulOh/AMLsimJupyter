{
 "cells": [
  {
   "cell_type": "code",
   "execution_count": 27,
   "metadata": {},
   "outputs": [
    {
     "name": "stdout",
     "output_type": "stream",
     "text": [
      "['accountMapping.csv', 'accounts.csv', 'alert_accounts.csv', 'alert_transactions.csv', 'alert_validations.log', 'cash_tx.csv', 'individuals-bulkload.csv', 'organizations-bulkload.csv', 'resolvedentities.csv', 'sar_accounts.csv', 'transactions.csv']\n"
     ]
    }
   ],
   "source": [
    "import seaborn as sns\n",
    "sns.set_theme(style=\"whitegrid\")\n",
    "import pandas as pd\n",
    "import sys\n",
    "import os\n",
    "\n",
    "path = '../AMLSim/outputs/sample'\n",
    "csvList = os.listdir('../AMLSim/outputs/sample')\n",
    "print(csvList)\n"
   ]
  },
  {
   "cell_type": "code",
   "execution_count": 287,
   "metadata": {},
   "outputs": [
    {
     "data": {
      "text/html": [
       "<div>\n",
       "<style scoped>\n",
       "    .dataframe tbody tr th:only-of-type {\n",
       "        vertical-align: middle;\n",
       "    }\n",
       "\n",
       "    .dataframe tbody tr th {\n",
       "        vertical-align: top;\n",
       "    }\n",
       "\n",
       "    .dataframe thead th {\n",
       "        text-align: right;\n",
       "    }\n",
       "</style>\n",
       "<table border=\"1\" class=\"dataframe\">\n",
       "  <thead>\n",
       "    <tr style=\"text-align: right;\">\n",
       "      <th></th>\n",
       "      <th>entityrefid</th>\n",
       "      <th>entityreference</th>\n",
       "      <th>partyid1</th>\n",
       "      <th>partyid2</th>\n",
       "      <th>partyid1entitytype</th>\n",
       "      <th>partyid2entitytype</th>\n",
       "      <th>score</th>\n",
       "      <th>reason</th>\n",
       "    </tr>\n",
       "  </thead>\n",
       "  <tbody>\n",
       "  </tbody>\n",
       "</table>\n",
       "</div>"
      ],
      "text/plain": [
       "Empty DataFrame\n",
       "Columns: [entityrefid, entityreference, partyid1, partyid2, partyid1entitytype, partyid2entitytype, score, reason]\n",
       "Index: []"
      ]
     },
     "execution_count": 287,
     "metadata": {},
     "output_type": "execute_result"
    }
   ],
   "source": [
    "accountMapping = pd.read_csv(os.path.join(path,csvList[8]))\n",
    "accountMapping.head()"
   ]
  },
  {
   "cell_type": "code",
   "execution_count": 288,
   "metadata": {},
   "outputs": [
    {
     "data": {
      "text/html": [
       "<div>\n",
       "<style scoped>\n",
       "    .dataframe tbody tr th:only-of-type {\n",
       "        vertical-align: middle;\n",
       "    }\n",
       "\n",
       "    .dataframe tbody tr th {\n",
       "        vertical-align: top;\n",
       "    }\n",
       "\n",
       "    .dataframe thead th {\n",
       "        text-align: right;\n",
       "    }\n",
       "</style>\n",
       "<table border=\"1\" class=\"dataframe\">\n",
       "  <thead>\n",
       "    <tr style=\"text-align: right;\">\n",
       "      <th></th>\n",
       "      <th>acct_id</th>\n",
       "      <th>dsply_nm</th>\n",
       "      <th>type</th>\n",
       "      <th>acct_stat</th>\n",
       "      <th>acct_rptng_crncy</th>\n",
       "      <th>prior_sar_count</th>\n",
       "      <th>branch_id</th>\n",
       "      <th>open_dt</th>\n",
       "      <th>close_dt</th>\n",
       "      <th>initial_deposit</th>\n",
       "      <th>tx_behavior_id</th>\n",
       "      <th>bank_id</th>\n",
       "      <th>first_name</th>\n",
       "      <th>last_name</th>\n",
       "      <th>street_addr</th>\n",
       "      <th>city</th>\n",
       "      <th>state</th>\n",
       "      <th>country</th>\n",
       "      <th>zip</th>\n",
       "      <th>gender</th>\n",
       "      <th>birth_date</th>\n",
       "      <th>ssn</th>\n",
       "      <th>lon</th>\n",
       "      <th>lat</th>\n",
       "    </tr>\n",
       "  </thead>\n",
       "  <tbody>\n",
       "    <tr>\n",
       "      <th>0</th>\n",
       "      <td>0</td>\n",
       "      <td>C_0</td>\n",
       "      <td>SAV</td>\n",
       "      <td>A</td>\n",
       "      <td>USD</td>\n",
       "      <td>False</td>\n",
       "      <td>1</td>\n",
       "      <td>2017-01-01T00:00:00Z</td>\n",
       "      <td>4754-11-29T00:00:00Z</td>\n",
       "      <td>92221.09</td>\n",
       "      <td>1</td>\n",
       "      <td>bank</td>\n",
       "      <td>NaN</td>\n",
       "      <td>NaN</td>\n",
       "      <td>NaN</td>\n",
       "      <td>NaN</td>\n",
       "      <td>NaN</td>\n",
       "      <td>US</td>\n",
       "      <td>NaN</td>\n",
       "      <td>NaN</td>\n",
       "      <td>NaN</td>\n",
       "      <td>NaN</td>\n",
       "      <td>NaN</td>\n",
       "      <td>NaN</td>\n",
       "    </tr>\n",
       "    <tr>\n",
       "      <th>1</th>\n",
       "      <td>1</td>\n",
       "      <td>C_1</td>\n",
       "      <td>SAV</td>\n",
       "      <td>A</td>\n",
       "      <td>USD</td>\n",
       "      <td>False</td>\n",
       "      <td>1</td>\n",
       "      <td>2017-01-01T00:00:00Z</td>\n",
       "      <td>4754-11-29T00:00:00Z</td>\n",
       "      <td>87897.72</td>\n",
       "      <td>1</td>\n",
       "      <td>bank</td>\n",
       "      <td>NaN</td>\n",
       "      <td>NaN</td>\n",
       "      <td>NaN</td>\n",
       "      <td>NaN</td>\n",
       "      <td>NaN</td>\n",
       "      <td>US</td>\n",
       "      <td>NaN</td>\n",
       "      <td>NaN</td>\n",
       "      <td>NaN</td>\n",
       "      <td>NaN</td>\n",
       "      <td>NaN</td>\n",
       "      <td>NaN</td>\n",
       "    </tr>\n",
       "    <tr>\n",
       "      <th>2</th>\n",
       "      <td>2</td>\n",
       "      <td>C_2</td>\n",
       "      <td>SAV</td>\n",
       "      <td>A</td>\n",
       "      <td>USD</td>\n",
       "      <td>False</td>\n",
       "      <td>1</td>\n",
       "      <td>2017-01-01T00:00:00Z</td>\n",
       "      <td>4754-11-29T00:00:00Z</td>\n",
       "      <td>71028.58</td>\n",
       "      <td>1</td>\n",
       "      <td>bank</td>\n",
       "      <td>NaN</td>\n",
       "      <td>NaN</td>\n",
       "      <td>NaN</td>\n",
       "      <td>NaN</td>\n",
       "      <td>NaN</td>\n",
       "      <td>US</td>\n",
       "      <td>NaN</td>\n",
       "      <td>NaN</td>\n",
       "      <td>NaN</td>\n",
       "      <td>NaN</td>\n",
       "      <td>NaN</td>\n",
       "      <td>NaN</td>\n",
       "    </tr>\n",
       "    <tr>\n",
       "      <th>3</th>\n",
       "      <td>3</td>\n",
       "      <td>C_3</td>\n",
       "      <td>SAV</td>\n",
       "      <td>A</td>\n",
       "      <td>USD</td>\n",
       "      <td>False</td>\n",
       "      <td>1</td>\n",
       "      <td>2017-01-01T00:00:00Z</td>\n",
       "      <td>4754-11-29T00:00:00Z</td>\n",
       "      <td>62945.84</td>\n",
       "      <td>1</td>\n",
       "      <td>bank</td>\n",
       "      <td>NaN</td>\n",
       "      <td>NaN</td>\n",
       "      <td>NaN</td>\n",
       "      <td>NaN</td>\n",
       "      <td>NaN</td>\n",
       "      <td>US</td>\n",
       "      <td>NaN</td>\n",
       "      <td>NaN</td>\n",
       "      <td>NaN</td>\n",
       "      <td>NaN</td>\n",
       "      <td>NaN</td>\n",
       "      <td>NaN</td>\n",
       "    </tr>\n",
       "    <tr>\n",
       "      <th>4</th>\n",
       "      <td>4</td>\n",
       "      <td>C_4</td>\n",
       "      <td>SAV</td>\n",
       "      <td>A</td>\n",
       "      <td>USD</td>\n",
       "      <td>False</td>\n",
       "      <td>1</td>\n",
       "      <td>2017-01-01T00:00:00Z</td>\n",
       "      <td>4754-11-29T00:00:00Z</td>\n",
       "      <td>75563.74</td>\n",
       "      <td>1</td>\n",
       "      <td>bank</td>\n",
       "      <td>NaN</td>\n",
       "      <td>NaN</td>\n",
       "      <td>NaN</td>\n",
       "      <td>NaN</td>\n",
       "      <td>NaN</td>\n",
       "      <td>US</td>\n",
       "      <td>NaN</td>\n",
       "      <td>NaN</td>\n",
       "      <td>NaN</td>\n",
       "      <td>NaN</td>\n",
       "      <td>NaN</td>\n",
       "      <td>NaN</td>\n",
       "    </tr>\n",
       "  </tbody>\n",
       "</table>\n",
       "</div>"
      ],
      "text/plain": [
       "   acct_id dsply_nm type acct_stat acct_rptng_crncy  prior_sar_count  \\\n",
       "0        0      C_0  SAV         A              USD            False   \n",
       "1        1      C_1  SAV         A              USD            False   \n",
       "2        2      C_2  SAV         A              USD            False   \n",
       "3        3      C_3  SAV         A              USD            False   \n",
       "4        4      C_4  SAV         A              USD            False   \n",
       "\n",
       "   branch_id               open_dt              close_dt  initial_deposit  \\\n",
       "0          1  2017-01-01T00:00:00Z  4754-11-29T00:00:00Z         92221.09   \n",
       "1          1  2017-01-01T00:00:00Z  4754-11-29T00:00:00Z         87897.72   \n",
       "2          1  2017-01-01T00:00:00Z  4754-11-29T00:00:00Z         71028.58   \n",
       "3          1  2017-01-01T00:00:00Z  4754-11-29T00:00:00Z         62945.84   \n",
       "4          1  2017-01-01T00:00:00Z  4754-11-29T00:00:00Z         75563.74   \n",
       "\n",
       "   tx_behavior_id bank_id  first_name  last_name  street_addr  city  state  \\\n",
       "0               1    bank         NaN        NaN          NaN   NaN    NaN   \n",
       "1               1    bank         NaN        NaN          NaN   NaN    NaN   \n",
       "2               1    bank         NaN        NaN          NaN   NaN    NaN   \n",
       "3               1    bank         NaN        NaN          NaN   NaN    NaN   \n",
       "4               1    bank         NaN        NaN          NaN   NaN    NaN   \n",
       "\n",
       "  country  zip  gender  birth_date  ssn  lon  lat  \n",
       "0      US  NaN     NaN         NaN  NaN  NaN  NaN  \n",
       "1      US  NaN     NaN         NaN  NaN  NaN  NaN  \n",
       "2      US  NaN     NaN         NaN  NaN  NaN  NaN  \n",
       "3      US  NaN     NaN         NaN  NaN  NaN  NaN  \n",
       "4      US  NaN     NaN         NaN  NaN  NaN  NaN  "
      ]
     },
     "execution_count": 288,
     "metadata": {},
     "output_type": "execute_result"
    }
   ],
   "source": [
    "accounts = pd.read_csv(os.path.join(path, csvList[1]))\n",
    "accounts.head()\n"
   ]
  },
  {
   "cell_type": "code",
   "execution_count": 289,
   "metadata": {},
   "outputs": [
    {
     "data": {
      "text/html": [
       "<div>\n",
       "<style scoped>\n",
       "    .dataframe tbody tr th:only-of-type {\n",
       "        vertical-align: middle;\n",
       "    }\n",
       "\n",
       "    .dataframe tbody tr th {\n",
       "        vertical-align: top;\n",
       "    }\n",
       "\n",
       "    .dataframe thead th {\n",
       "        text-align: right;\n",
       "    }\n",
       "</style>\n",
       "<table border=\"1\" class=\"dataframe\">\n",
       "  <thead>\n",
       "    <tr style=\"text-align: right;\">\n",
       "      <th></th>\n",
       "      <th>tran_id</th>\n",
       "      <th>orig_acct</th>\n",
       "      <th>bene_acct</th>\n",
       "      <th>tx_type</th>\n",
       "      <th>base_amt</th>\n",
       "      <th>tran_timestamp</th>\n",
       "      <th>is_sar</th>\n",
       "      <th>alert_id</th>\n",
       "    </tr>\n",
       "  </thead>\n",
       "  <tbody>\n",
       "    <tr>\n",
       "      <th>0</th>\n",
       "      <td>1</td>\n",
       "      <td>904</td>\n",
       "      <td>963</td>\n",
       "      <td>TRANSFER</td>\n",
       "      <td>785.77</td>\n",
       "      <td>2017-01-01T00:00:00Z</td>\n",
       "      <td>False</td>\n",
       "      <td>-1</td>\n",
       "    </tr>\n",
       "    <tr>\n",
       "      <th>1</th>\n",
       "      <td>2</td>\n",
       "      <td>486</td>\n",
       "      <td>152</td>\n",
       "      <td>TRANSFER</td>\n",
       "      <td>524.61</td>\n",
       "      <td>2017-01-01T00:00:00Z</td>\n",
       "      <td>False</td>\n",
       "      <td>-1</td>\n",
       "    </tr>\n",
       "    <tr>\n",
       "      <th>2</th>\n",
       "      <td>3</td>\n",
       "      <td>707</td>\n",
       "      <td>960</td>\n",
       "      <td>TRANSFER</td>\n",
       "      <td>482.39</td>\n",
       "      <td>2017-01-01T00:00:00Z</td>\n",
       "      <td>False</td>\n",
       "      <td>-1</td>\n",
       "    </tr>\n",
       "    <tr>\n",
       "      <th>3</th>\n",
       "      <td>4</td>\n",
       "      <td>762</td>\n",
       "      <td>620</td>\n",
       "      <td>TRANSFER</td>\n",
       "      <td>715.38</td>\n",
       "      <td>2017-01-01T00:00:00Z</td>\n",
       "      <td>False</td>\n",
       "      <td>-1</td>\n",
       "    </tr>\n",
       "    <tr>\n",
       "      <th>4</th>\n",
       "      <td>5</td>\n",
       "      <td>920</td>\n",
       "      <td>982</td>\n",
       "      <td>TRANSFER</td>\n",
       "      <td>882.35</td>\n",
       "      <td>2017-01-01T00:00:00Z</td>\n",
       "      <td>False</td>\n",
       "      <td>-1</td>\n",
       "    </tr>\n",
       "  </tbody>\n",
       "</table>\n",
       "</div>"
      ],
      "text/plain": [
       "   tran_id  orig_acct  bene_acct   tx_type  base_amt        tran_timestamp  \\\n",
       "0        1        904        963  TRANSFER    785.77  2017-01-01T00:00:00Z   \n",
       "1        2        486        152  TRANSFER    524.61  2017-01-01T00:00:00Z   \n",
       "2        3        707        960  TRANSFER    482.39  2017-01-01T00:00:00Z   \n",
       "3        4        762        620  TRANSFER    715.38  2017-01-01T00:00:00Z   \n",
       "4        5        920        982  TRANSFER    882.35  2017-01-01T00:00:00Z   \n",
       "\n",
       "   is_sar  alert_id  \n",
       "0   False        -1  \n",
       "1   False        -1  \n",
       "2   False        -1  \n",
       "3   False        -1  \n",
       "4   False        -1  "
      ]
     },
     "execution_count": 289,
     "metadata": {},
     "output_type": "execute_result"
    }
   ],
   "source": [
    "transactions = pd.read_csv(os.path.join(path, csvList[-1]))\n",
    "transactions.head()"
   ]
  },
  {
   "cell_type": "code",
   "execution_count": 303,
   "metadata": {},
   "outputs": [
    {
     "name": "stdout",
     "output_type": "stream",
     "text": [
      "False    102861\n",
      "True         59\n",
      "Name: is_sar, dtype: int64\n"
     ]
    },
    {
     "data": {
      "text/plain": [
       "Text(0.5, 1.0, 'Data Imbalance')"
      ]
     },
     "execution_count": 303,
     "metadata": {},
     "output_type": "execute_result"
    },
    {
     "data": {
      "image/png": "[encoded data removed]",
      "text/plain": [
       "<Figure size 432x288 with 1 Axes>"
      ]
     },
     "metadata": {},
     "output_type": "display_data"
    }
   ],
   "source": [
    "x = transactions['is_sar'].value_counts().index\n",
    "y = transactions['is_sar'].value_counts().values\n",
    "print(transactions['is_sar'].value_counts())\n",
    "ax = sns.barplot(x=x, y=y)\n",
    "ax.set_title('Data Imbalance')\n"
   ]
  },
  {
   "cell_type": "code",
   "execution_count": 304,
   "metadata": {},
   "outputs": [
    {
     "name": "stdout",
     "output_type": "stream",
     "text": [
      "   tran_id  orig_acct  bene_acct   tx_type  base_amt  \\\n",
      "0        1        904        963  TRANSFER    785.77   \n",
      "1        2        486        152  TRANSFER    524.61   \n",
      "2        3        707        960  TRANSFER    482.39   \n",
      "3        4        762        620  TRANSFER    715.38   \n",
      "4        5        920        982  TRANSFER    882.35   \n",
      "\n",
      "             tran_timestamp  is_sar  alert_id  \n",
      "0 2017-01-01 00:00:00+00:00   False        -1  \n",
      "1 2017-01-01 00:00:00+00:00   False        -1  \n",
      "2 2017-01-01 00:00:00+00:00   False        -1  \n",
      "3 2017-01-01 00:00:00+00:00   False        -1  \n",
      "4 2017-01-01 00:00:00+00:00   False        -1  \n"
     ]
    },
    {
     "data": {
      "text/plain": [
       "<AxesSubplot:xlabel='orig_acct', ylabel='Density'>"
      ]
     },
     "execution_count": 304,
     "metadata": {},
     "output_type": "execute_result"
    },
    {
     "data": {
      "image/png": "[encoded data removed]",
      "text/plain": [
       "<Figure size 432x288 with 1 Axes>"
      ]
     },
     "metadata": {},
     "output_type": "display_data"
    }
   ],
   "source": [
    "print(transactions.head())\n",
    "sns.histplot(data=transactions, x='orig_acct', hue='is_sar',\n",
    "             stat='density', common_norm=False, kde=True)\n"
   ]
  },
  {
   "cell_type": "code",
   "execution_count": 305,
   "metadata": {},
   "outputs": [
    {
     "data": {
      "text/plain": [
       "<AxesSubplot:xlabel='bene_acct', ylabel='Density'>"
      ]
     },
     "execution_count": 305,
     "metadata": {},
     "output_type": "execute_result"
    },
    {
     "data": {
      "image/png": "[encoded data removed]",
      "text/plain": [
       "<Figure size 432x288 with 1 Axes>"
      ]
     },
     "metadata": {},
     "output_type": "display_data"
    }
   ],
   "source": [
    "\n",
    "sns.histplot(data=transactions, x='bene_acct', hue='is_sar',\n",
    "             stat='density', common_norm=False, kde=True)"
   ]
  },
  {
   "cell_type": "code",
   "execution_count": 306,
   "metadata": {},
   "outputs": [
    {
     "data": {
      "text/plain": [
       "<AxesSubplot:xlabel='base_amt', ylabel='Density'>"
      ]
     },
     "execution_count": 306,
     "metadata": {},
     "output_type": "execute_result"
    },
    {
     "data": {
      "image/png": "[encoded data removed]",
      "text/plain": [
       "<Figure size 432x288 with 1 Axes>"
      ]
     },
     "metadata": {},
     "output_type": "display_data"
    }
   ],
   "source": [
    "sns.histplot(data=transactions, x='base_amt', hue='is_sar',\n",
    "             stat='density', common_norm=False, kde=True)\n"
   ]
  },
  {
   "cell_type": "code",
   "execution_count": 307,
   "metadata": {},
   "outputs": [
    {
     "data": {
      "text/plain": [
       "<AxesSubplot:xlabel='orig_acct', ylabel='Density'>"
      ]
     },
     "execution_count": 307,
     "metadata": {},
     "output_type": "execute_result"
    },
    {
     "data": {
      "image/png": "[encoded data removed]",
      "text/plain": [
       "<Figure size 432x288 with 1 Axes>"
      ]
     },
     "metadata": {},
     "output_type": "display_data"
    }
   ],
   "source": [
    "\n",
    "sns.histplot(data=transactions, x='orig_acct', hue='is_sar',\n",
    "             stat='density', common_norm=False, kde=True)\n"
   ]
  },
  {
   "cell_type": "code",
   "execution_count": 308,
   "metadata": {},
   "outputs": [
    {
     "data": {
      "text/plain": [
       "<AxesSubplot:ylabel='Count'>"
      ]
     },
     "execution_count": 308,
     "metadata": {},
     "output_type": "execute_result"
    },
    {
     "data": {
      "image/png": "[encoded data removed]",
      "text/plain": [
       "<Figure size 432x288 with 1 Axes>"
      ]
     },
     "metadata": {},
     "output_type": "display_data"
    }
   ],
   "source": [
    "tx_type = pd.Categorical(transactions['tx_type'])\n",
    "sns.histplot(data=tx_type.codes, kde = True)\n"
   ]
  },
  {
   "cell_type": "code",
   "execution_count": 309,
   "metadata": {},
   "outputs": [
    {
     "data": {
      "text/plain": [
       "<AxesSubplot:xlabel='tran_timestamp', ylabel='Density'>"
      ]
     },
     "execution_count": 309,
     "metadata": {},
     "output_type": "execute_result"
    },
    {
     "data": {
      "image/png": "[encoded data removed]",
      "text/plain": [
       "<Figure size 432x288 with 1 Axes>"
      ]
     },
     "metadata": {},
     "output_type": "display_data"
    }
   ],
   "source": [
    "transactions['tran_timestamp'] = pd.to_datetime(transactions['tran_timestamp'])\n",
    "sns.histplot(data=transactions, x='tran_timestamp', hue='is_sar',\n",
    "            stat='density', common_norm=False, kde=True)\n"
   ]
  },
  {
   "cell_type": "code",
   "execution_count": 310,
   "metadata": {},
   "outputs": [
    {
     "data": {
      "text/html": [
       "<div>\n",
       "<style scoped>\n",
       "    .dataframe tbody tr th:only-of-type {\n",
       "        vertical-align: middle;\n",
       "    }\n",
       "\n",
       "    .dataframe tbody tr th {\n",
       "        vertical-align: top;\n",
       "    }\n",
       "\n",
       "    .dataframe thead th {\n",
       "        text-align: right;\n",
       "    }\n",
       "</style>\n",
       "<table border=\"1\" class=\"dataframe\">\n",
       "  <thead>\n",
       "    <tr style=\"text-align: right;\">\n",
       "      <th></th>\n",
       "      <th>tran_id</th>\n",
       "      <th>orig_acct</th>\n",
       "      <th>bene_acct</th>\n",
       "      <th>tx_type</th>\n",
       "      <th>base_amt</th>\n",
       "      <th>tran_timestamp</th>\n",
       "      <th>is_sar</th>\n",
       "      <th>alert_id</th>\n",
       "      <th>acct_id</th>\n",
       "      <th>dsply_nm</th>\n",
       "      <th>type</th>\n",
       "      <th>acct_stat</th>\n",
       "      <th>acct_rptng_crncy</th>\n",
       "      <th>prior_sar_count</th>\n",
       "      <th>branch_id</th>\n",
       "      <th>open_dt</th>\n",
       "      <th>close_dt</th>\n",
       "      <th>initial_deposit</th>\n",
       "      <th>tx_behavior_id</th>\n",
       "      <th>bank_id</th>\n",
       "      <th>first_name</th>\n",
       "      <th>last_name</th>\n",
       "      <th>street_addr</th>\n",
       "      <th>city</th>\n",
       "      <th>state</th>\n",
       "      <th>country</th>\n",
       "      <th>zip</th>\n",
       "      <th>gender</th>\n",
       "      <th>birth_date</th>\n",
       "      <th>ssn</th>\n",
       "      <th>lon</th>\n",
       "      <th>lat</th>\n",
       "    </tr>\n",
       "  </thead>\n",
       "  <tbody>\n",
       "    <tr>\n",
       "      <th>0</th>\n",
       "      <td>1</td>\n",
       "      <td>904</td>\n",
       "      <td>963</td>\n",
       "      <td>TRANSFER</td>\n",
       "      <td>785.77</td>\n",
       "      <td>2017-01-01 00:00:00+00:00</td>\n",
       "      <td>False</td>\n",
       "      <td>-1</td>\n",
       "      <td>904</td>\n",
       "      <td>C_904</td>\n",
       "      <td>SAV</td>\n",
       "      <td>A</td>\n",
       "      <td>USD</td>\n",
       "      <td>False</td>\n",
       "      <td>1</td>\n",
       "      <td>2017-01-01T00:00:00Z</td>\n",
       "      <td>4754-11-29T00:00:00Z</td>\n",
       "      <td>70446.69</td>\n",
       "      <td>5</td>\n",
       "      <td>bank</td>\n",
       "      <td>NaN</td>\n",
       "      <td>NaN</td>\n",
       "      <td>NaN</td>\n",
       "      <td>NaN</td>\n",
       "      <td>NaN</td>\n",
       "      <td>US</td>\n",
       "      <td>NaN</td>\n",
       "      <td>NaN</td>\n",
       "      <td>NaN</td>\n",
       "      <td>NaN</td>\n",
       "      <td>NaN</td>\n",
       "      <td>NaN</td>\n",
       "    </tr>\n",
       "    <tr>\n",
       "      <th>1</th>\n",
       "      <td>2</td>\n",
       "      <td>486</td>\n",
       "      <td>152</td>\n",
       "      <td>TRANSFER</td>\n",
       "      <td>524.61</td>\n",
       "      <td>2017-01-01 00:00:00+00:00</td>\n",
       "      <td>False</td>\n",
       "      <td>-1</td>\n",
       "      <td>486</td>\n",
       "      <td>C_486</td>\n",
       "      <td>SAV</td>\n",
       "      <td>A</td>\n",
       "      <td>USD</td>\n",
       "      <td>False</td>\n",
       "      <td>1</td>\n",
       "      <td>2017-01-01T00:00:00Z</td>\n",
       "      <td>4754-11-29T00:00:00Z</td>\n",
       "      <td>70782.06</td>\n",
       "      <td>3</td>\n",
       "      <td>bank</td>\n",
       "      <td>NaN</td>\n",
       "      <td>NaN</td>\n",
       "      <td>NaN</td>\n",
       "      <td>NaN</td>\n",
       "      <td>NaN</td>\n",
       "      <td>US</td>\n",
       "      <td>NaN</td>\n",
       "      <td>NaN</td>\n",
       "      <td>NaN</td>\n",
       "      <td>NaN</td>\n",
       "      <td>NaN</td>\n",
       "      <td>NaN</td>\n",
       "    </tr>\n",
       "    <tr>\n",
       "      <th>2</th>\n",
       "      <td>3</td>\n",
       "      <td>707</td>\n",
       "      <td>960</td>\n",
       "      <td>TRANSFER</td>\n",
       "      <td>482.39</td>\n",
       "      <td>2017-01-01 00:00:00+00:00</td>\n",
       "      <td>False</td>\n",
       "      <td>-1</td>\n",
       "      <td>707</td>\n",
       "      <td>C_707</td>\n",
       "      <td>SAV</td>\n",
       "      <td>A</td>\n",
       "      <td>USD</td>\n",
       "      <td>False</td>\n",
       "      <td>1</td>\n",
       "      <td>2017-01-01T00:00:00Z</td>\n",
       "      <td>4754-11-29T00:00:00Z</td>\n",
       "      <td>93872.87</td>\n",
       "      <td>4</td>\n",
       "      <td>bank</td>\n",
       "      <td>NaN</td>\n",
       "      <td>NaN</td>\n",
       "      <td>NaN</td>\n",
       "      <td>NaN</td>\n",
       "      <td>NaN</td>\n",
       "      <td>US</td>\n",
       "      <td>NaN</td>\n",
       "      <td>NaN</td>\n",
       "      <td>NaN</td>\n",
       "      <td>NaN</td>\n",
       "      <td>NaN</td>\n",
       "      <td>NaN</td>\n",
       "    </tr>\n",
       "    <tr>\n",
       "      <th>3</th>\n",
       "      <td>4</td>\n",
       "      <td>762</td>\n",
       "      <td>620</td>\n",
       "      <td>TRANSFER</td>\n",
       "      <td>715.38</td>\n",
       "      <td>2017-01-01 00:00:00+00:00</td>\n",
       "      <td>False</td>\n",
       "      <td>-1</td>\n",
       "      <td>762</td>\n",
       "      <td>C_762</td>\n",
       "      <td>SAV</td>\n",
       "      <td>A</td>\n",
       "      <td>USD</td>\n",
       "      <td>False</td>\n",
       "      <td>1</td>\n",
       "      <td>2017-01-01T00:00:00Z</td>\n",
       "      <td>4754-11-29T00:00:00Z</td>\n",
       "      <td>55906.18</td>\n",
       "      <td>4</td>\n",
       "      <td>bank</td>\n",
       "      <td>NaN</td>\n",
       "      <td>NaN</td>\n",
       "      <td>NaN</td>\n",
       "      <td>NaN</td>\n",
       "      <td>NaN</td>\n",
       "      <td>US</td>\n",
       "      <td>NaN</td>\n",
       "      <td>NaN</td>\n",
       "      <td>NaN</td>\n",
       "      <td>NaN</td>\n",
       "      <td>NaN</td>\n",
       "      <td>NaN</td>\n",
       "    </tr>\n",
       "    <tr>\n",
       "      <th>4</th>\n",
       "      <td>5</td>\n",
       "      <td>920</td>\n",
       "      <td>982</td>\n",
       "      <td>TRANSFER</td>\n",
       "      <td>882.35</td>\n",
       "      <td>2017-01-01 00:00:00+00:00</td>\n",
       "      <td>False</td>\n",
       "      <td>-1</td>\n",
       "      <td>920</td>\n",
       "      <td>C_920</td>\n",
       "      <td>SAV</td>\n",
       "      <td>A</td>\n",
       "      <td>USD</td>\n",
       "      <td>False</td>\n",
       "      <td>1</td>\n",
       "      <td>2017-01-01T00:00:00Z</td>\n",
       "      <td>4754-11-29T00:00:00Z</td>\n",
       "      <td>84182.96</td>\n",
       "      <td>5</td>\n",
       "      <td>bank</td>\n",
       "      <td>NaN</td>\n",
       "      <td>NaN</td>\n",
       "      <td>NaN</td>\n",
       "      <td>NaN</td>\n",
       "      <td>NaN</td>\n",
       "      <td>US</td>\n",
       "      <td>NaN</td>\n",
       "      <td>NaN</td>\n",
       "      <td>NaN</td>\n",
       "      <td>NaN</td>\n",
       "      <td>NaN</td>\n",
       "      <td>NaN</td>\n",
       "    </tr>\n",
       "  </tbody>\n",
       "</table>\n",
       "</div>"
      ],
      "text/plain": [
       "   tran_id  orig_acct  bene_acct   tx_type  base_amt  \\\n",
       "0        1        904        963  TRANSFER    785.77   \n",
       "1        2        486        152  TRANSFER    524.61   \n",
       "2        3        707        960  TRANSFER    482.39   \n",
       "3        4        762        620  TRANSFER    715.38   \n",
       "4        5        920        982  TRANSFER    882.35   \n",
       "\n",
       "             tran_timestamp  is_sar  alert_id  acct_id dsply_nm type  \\\n",
       "0 2017-01-01 00:00:00+00:00   False        -1      904    C_904  SAV   \n",
       "1 2017-01-01 00:00:00+00:00   False        -1      486    C_486  SAV   \n",
       "2 2017-01-01 00:00:00+00:00   False        -1      707    C_707  SAV   \n",
       "3 2017-01-01 00:00:00+00:00   False        -1      762    C_762  SAV   \n",
       "4 2017-01-01 00:00:00+00:00   False        -1      920    C_920  SAV   \n",
       "\n",
       "  acct_stat acct_rptng_crncy  prior_sar_count  branch_id  \\\n",
       "0         A              USD            False          1   \n",
       "1         A              USD            False          1   \n",
       "2         A              USD            False          1   \n",
       "3         A              USD            False          1   \n",
       "4         A              USD            False          1   \n",
       "\n",
       "                open_dt              close_dt  initial_deposit  \\\n",
       "0  2017-01-01T00:00:00Z  4754-11-29T00:00:00Z         70446.69   \n",
       "1  2017-01-01T00:00:00Z  4754-11-29T00:00:00Z         70782.06   \n",
       "2  2017-01-01T00:00:00Z  4754-11-29T00:00:00Z         93872.87   \n",
       "3  2017-01-01T00:00:00Z  4754-11-29T00:00:00Z         55906.18   \n",
       "4  2017-01-01T00:00:00Z  4754-11-29T00:00:00Z         84182.96   \n",
       "\n",
       "   tx_behavior_id bank_id  first_name  last_name  street_addr  city  state  \\\n",
       "0               5    bank         NaN        NaN          NaN   NaN    NaN   \n",
       "1               3    bank         NaN        NaN          NaN   NaN    NaN   \n",
       "2               4    bank         NaN        NaN          NaN   NaN    NaN   \n",
       "3               4    bank         NaN        NaN          NaN   NaN    NaN   \n",
       "4               5    bank         NaN        NaN          NaN   NaN    NaN   \n",
       "\n",
       "  country  zip  gender  birth_date  ssn  lon  lat  \n",
       "0      US  NaN     NaN         NaN  NaN  NaN  NaN  \n",
       "1      US  NaN     NaN         NaN  NaN  NaN  NaN  \n",
       "2      US  NaN     NaN         NaN  NaN  NaN  NaN  \n",
       "3      US  NaN     NaN         NaN  NaN  NaN  NaN  \n",
       "4      US  NaN     NaN         NaN  NaN  NaN  NaN  "
      ]
     },
     "execution_count": 310,
     "metadata": {},
     "output_type": "execute_result"
    }
   ],
   "source": [
    "orig_acct = pd.merge(transactions, accounts, how='left', left_on=['orig_acct'], right_on=['acct_id'])\n",
    "pd.set_option('display.max_columns', None)\n",
    "orig_acct.head()\n"
   ]
  },
  {
   "cell_type": "code",
   "execution_count": 311,
   "metadata": {},
   "outputs": [
    {
     "data": {
      "text/plain": [
       "<AxesSubplot:xlabel='initial_deposit', ylabel='Density'>"
      ]
     },
     "execution_count": 311,
     "metadata": {},
     "output_type": "execute_result"
    },
    {
     "data": {
      "image/png": "[encoded data removed]",
      "text/plain": [
       "<Figure size 432x288 with 1 Axes>"
      ]
     },
     "metadata": {},
     "output_type": "display_data"
    }
   ],
   "source": [
    "\n",
    "\n",
    "sns.histplot(data=orig_acct, x='initial_deposit', hue='is_sar',\n",
    "            stat='density', common_norm=False, kde=True)\n",
    "\n"
   ]
  },
  {
   "cell_type": "code",
   "execution_count": 312,
   "metadata": {},
   "outputs": [
    {
     "name": "stdout",
     "output_type": "stream",
     "text": [
      "0         800\n",
      "1         335\n",
      "2         581\n",
      "3         642\n",
      "4         818\n",
      "         ... \n",
      "102915    362\n",
      "102916    893\n",
      "102917     44\n",
      "102918    452\n",
      "102919      0\n",
      "Length: 102920, dtype: int16\n"
     ]
    },
    {
     "data": {
      "text/plain": [
       "<AxesSubplot:xlabel='dsply_nm', ylabel='Density'>"
      ]
     },
     "execution_count": 312,
     "metadata": {},
     "output_type": "execute_result"
    },
    {
     "data": {
      "image/png": "[encoded data removed]",
      "text/plain": [
       "<Figure size 432x288 with 1 Axes>"
      ]
     },
     "metadata": {},
     "output_type": "display_data"
    }
   ],
   "source": [
    "orig_acct['dsply_nm'] = orig_acct.dsply_nm.astype('category')\n",
    "print(orig_acct['dsply_nm'].cat.codes)\n",
    "orig_acct['dsply_nm'] = orig_acct['dsply_nm'].cat.codes\n",
    "sns.histplot(data=orig_acct, x='dsply_nm', hue='is_sar',\n",
    "             stat='density', common_norm=False, kde=True)\n"
   ]
  },
  {
   "cell_type": "code",
   "execution_count": 313,
   "metadata": {},
   "outputs": [
    {
     "data": {
      "text/html": [
       "<div>\n",
       "<style scoped>\n",
       "    .dataframe tbody tr th:only-of-type {\n",
       "        vertical-align: middle;\n",
       "    }\n",
       "\n",
       "    .dataframe tbody tr th {\n",
       "        vertical-align: top;\n",
       "    }\n",
       "\n",
       "    .dataframe thead th {\n",
       "        text-align: right;\n",
       "    }\n",
       "</style>\n",
       "<table border=\"1\" class=\"dataframe\">\n",
       "  <thead>\n",
       "    <tr style=\"text-align: right;\">\n",
       "      <th></th>\n",
       "      <th>tran_id</th>\n",
       "      <th>orig_acct</th>\n",
       "      <th>bene_acct</th>\n",
       "      <th>tx_type</th>\n",
       "      <th>base_amt</th>\n",
       "      <th>tran_timestamp</th>\n",
       "      <th>is_sar</th>\n",
       "      <th>alert_id</th>\n",
       "      <th>acct_id</th>\n",
       "      <th>dsply_nm</th>\n",
       "      <th>type</th>\n",
       "      <th>acct_stat</th>\n",
       "      <th>acct_rptng_crncy</th>\n",
       "      <th>prior_sar_count</th>\n",
       "      <th>branch_id</th>\n",
       "      <th>open_dt</th>\n",
       "      <th>close_dt</th>\n",
       "      <th>initial_deposit</th>\n",
       "      <th>tx_behavior_id</th>\n",
       "      <th>bank_id</th>\n",
       "      <th>first_name</th>\n",
       "      <th>last_name</th>\n",
       "      <th>street_addr</th>\n",
       "      <th>city</th>\n",
       "      <th>state</th>\n",
       "      <th>country</th>\n",
       "      <th>zip</th>\n",
       "      <th>gender</th>\n",
       "      <th>birth_date</th>\n",
       "      <th>ssn</th>\n",
       "      <th>lon</th>\n",
       "      <th>lat</th>\n",
       "    </tr>\n",
       "  </thead>\n",
       "  <tbody>\n",
       "    <tr>\n",
       "      <th>0</th>\n",
       "      <td>1</td>\n",
       "      <td>904</td>\n",
       "      <td>963</td>\n",
       "      <td>TRANSFER</td>\n",
       "      <td>785.77</td>\n",
       "      <td>2017-01-01 00:00:00+00:00</td>\n",
       "      <td>False</td>\n",
       "      <td>-1</td>\n",
       "      <td>963</td>\n",
       "      <td>C_963</td>\n",
       "      <td>SAV</td>\n",
       "      <td>A</td>\n",
       "      <td>USD</td>\n",
       "      <td>False</td>\n",
       "      <td>1</td>\n",
       "      <td>2017-01-01T00:00:00Z</td>\n",
       "      <td>4754-11-29T00:00:00Z</td>\n",
       "      <td>64488.88</td>\n",
       "      <td>5</td>\n",
       "      <td>bank</td>\n",
       "      <td>NaN</td>\n",
       "      <td>NaN</td>\n",
       "      <td>NaN</td>\n",
       "      <td>NaN</td>\n",
       "      <td>NaN</td>\n",
       "      <td>US</td>\n",
       "      <td>NaN</td>\n",
       "      <td>NaN</td>\n",
       "      <td>NaN</td>\n",
       "      <td>NaN</td>\n",
       "      <td>NaN</td>\n",
       "      <td>NaN</td>\n",
       "    </tr>\n",
       "    <tr>\n",
       "      <th>1</th>\n",
       "      <td>2</td>\n",
       "      <td>486</td>\n",
       "      <td>152</td>\n",
       "      <td>TRANSFER</td>\n",
       "      <td>524.61</td>\n",
       "      <td>2017-01-01 00:00:00+00:00</td>\n",
       "      <td>False</td>\n",
       "      <td>-1</td>\n",
       "      <td>152</td>\n",
       "      <td>C_152</td>\n",
       "      <td>SAV</td>\n",
       "      <td>A</td>\n",
       "      <td>USD</td>\n",
       "      <td>False</td>\n",
       "      <td>1</td>\n",
       "      <td>2017-01-01T00:00:00Z</td>\n",
       "      <td>4754-11-29T00:00:00Z</td>\n",
       "      <td>52902.55</td>\n",
       "      <td>1</td>\n",
       "      <td>bank</td>\n",
       "      <td>NaN</td>\n",
       "      <td>NaN</td>\n",
       "      <td>NaN</td>\n",
       "      <td>NaN</td>\n",
       "      <td>NaN</td>\n",
       "      <td>US</td>\n",
       "      <td>NaN</td>\n",
       "      <td>NaN</td>\n",
       "      <td>NaN</td>\n",
       "      <td>NaN</td>\n",
       "      <td>NaN</td>\n",
       "      <td>NaN</td>\n",
       "    </tr>\n",
       "    <tr>\n",
       "      <th>2</th>\n",
       "      <td>3</td>\n",
       "      <td>707</td>\n",
       "      <td>960</td>\n",
       "      <td>TRANSFER</td>\n",
       "      <td>482.39</td>\n",
       "      <td>2017-01-01 00:00:00+00:00</td>\n",
       "      <td>False</td>\n",
       "      <td>-1</td>\n",
       "      <td>960</td>\n",
       "      <td>C_960</td>\n",
       "      <td>SAV</td>\n",
       "      <td>A</td>\n",
       "      <td>USD</td>\n",
       "      <td>False</td>\n",
       "      <td>1</td>\n",
       "      <td>2017-01-01T00:00:00Z</td>\n",
       "      <td>4754-11-29T00:00:00Z</td>\n",
       "      <td>84036.27</td>\n",
       "      <td>5</td>\n",
       "      <td>bank</td>\n",
       "      <td>NaN</td>\n",
       "      <td>NaN</td>\n",
       "      <td>NaN</td>\n",
       "      <td>NaN</td>\n",
       "      <td>NaN</td>\n",
       "      <td>US</td>\n",
       "      <td>NaN</td>\n",
       "      <td>NaN</td>\n",
       "      <td>NaN</td>\n",
       "      <td>NaN</td>\n",
       "      <td>NaN</td>\n",
       "      <td>NaN</td>\n",
       "    </tr>\n",
       "    <tr>\n",
       "      <th>3</th>\n",
       "      <td>4</td>\n",
       "      <td>762</td>\n",
       "      <td>620</td>\n",
       "      <td>TRANSFER</td>\n",
       "      <td>715.38</td>\n",
       "      <td>2017-01-01 00:00:00+00:00</td>\n",
       "      <td>False</td>\n",
       "      <td>-1</td>\n",
       "      <td>620</td>\n",
       "      <td>C_620</td>\n",
       "      <td>SAV</td>\n",
       "      <td>A</td>\n",
       "      <td>USD</td>\n",
       "      <td>False</td>\n",
       "      <td>1</td>\n",
       "      <td>2017-01-01T00:00:00Z</td>\n",
       "      <td>4754-11-29T00:00:00Z</td>\n",
       "      <td>58177.74</td>\n",
       "      <td>4</td>\n",
       "      <td>bank</td>\n",
       "      <td>NaN</td>\n",
       "      <td>NaN</td>\n",
       "      <td>NaN</td>\n",
       "      <td>NaN</td>\n",
       "      <td>NaN</td>\n",
       "      <td>US</td>\n",
       "      <td>NaN</td>\n",
       "      <td>NaN</td>\n",
       "      <td>NaN</td>\n",
       "      <td>NaN</td>\n",
       "      <td>NaN</td>\n",
       "      <td>NaN</td>\n",
       "    </tr>\n",
       "    <tr>\n",
       "      <th>4</th>\n",
       "      <td>5</td>\n",
       "      <td>920</td>\n",
       "      <td>982</td>\n",
       "      <td>TRANSFER</td>\n",
       "      <td>882.35</td>\n",
       "      <td>2017-01-01 00:00:00+00:00</td>\n",
       "      <td>False</td>\n",
       "      <td>-1</td>\n",
       "      <td>982</td>\n",
       "      <td>C_982</td>\n",
       "      <td>SAV</td>\n",
       "      <td>A</td>\n",
       "      <td>USD</td>\n",
       "      <td>False</td>\n",
       "      <td>1</td>\n",
       "      <td>2017-01-01T00:00:00Z</td>\n",
       "      <td>4754-11-29T00:00:00Z</td>\n",
       "      <td>87369.75</td>\n",
       "      <td>5</td>\n",
       "      <td>bank</td>\n",
       "      <td>NaN</td>\n",
       "      <td>NaN</td>\n",
       "      <td>NaN</td>\n",
       "      <td>NaN</td>\n",
       "      <td>NaN</td>\n",
       "      <td>US</td>\n",
       "      <td>NaN</td>\n",
       "      <td>NaN</td>\n",
       "      <td>NaN</td>\n",
       "      <td>NaN</td>\n",
       "      <td>NaN</td>\n",
       "      <td>NaN</td>\n",
       "    </tr>\n",
       "  </tbody>\n",
       "</table>\n",
       "</div>"
      ],
      "text/plain": [
       "   tran_id  orig_acct  bene_acct   tx_type  base_amt  \\\n",
       "0        1        904        963  TRANSFER    785.77   \n",
       "1        2        486        152  TRANSFER    524.61   \n",
       "2        3        707        960  TRANSFER    482.39   \n",
       "3        4        762        620  TRANSFER    715.38   \n",
       "4        5        920        982  TRANSFER    882.35   \n",
       "\n",
       "             tran_timestamp  is_sar  alert_id  acct_id dsply_nm type  \\\n",
       "0 2017-01-01 00:00:00+00:00   False        -1      963    C_963  SAV   \n",
       "1 2017-01-01 00:00:00+00:00   False        -1      152    C_152  SAV   \n",
       "2 2017-01-01 00:00:00+00:00   False        -1      960    C_960  SAV   \n",
       "3 2017-01-01 00:00:00+00:00   False        -1      620    C_620  SAV   \n",
       "4 2017-01-01 00:00:00+00:00   False        -1      982    C_982  SAV   \n",
       "\n",
       "  acct_stat acct_rptng_crncy  prior_sar_count  branch_id  \\\n",
       "0         A              USD            False          1   \n",
       "1         A              USD            False          1   \n",
       "2         A              USD            False          1   \n",
       "3         A              USD            False          1   \n",
       "4         A              USD            False          1   \n",
       "\n",
       "                open_dt              close_dt  initial_deposit  \\\n",
       "0  2017-01-01T00:00:00Z  4754-11-29T00:00:00Z         64488.88   \n",
       "1  2017-01-01T00:00:00Z  4754-11-29T00:00:00Z         52902.55   \n",
       "2  2017-01-01T00:00:00Z  4754-11-29T00:00:00Z         84036.27   \n",
       "3  2017-01-01T00:00:00Z  4754-11-29T00:00:00Z         58177.74   \n",
       "4  2017-01-01T00:00:00Z  4754-11-29T00:00:00Z         87369.75   \n",
       "\n",
       "   tx_behavior_id bank_id  first_name  last_name  street_addr  city  state  \\\n",
       "0               5    bank         NaN        NaN          NaN   NaN    NaN   \n",
       "1               1    bank         NaN        NaN          NaN   NaN    NaN   \n",
       "2               5    bank         NaN        NaN          NaN   NaN    NaN   \n",
       "3               4    bank         NaN        NaN          NaN   NaN    NaN   \n",
       "4               5    bank         NaN        NaN          NaN   NaN    NaN   \n",
       "\n",
       "  country  zip  gender  birth_date  ssn  lon  lat  \n",
       "0      US  NaN     NaN         NaN  NaN  NaN  NaN  \n",
       "1      US  NaN     NaN         NaN  NaN  NaN  NaN  \n",
       "2      US  NaN     NaN         NaN  NaN  NaN  NaN  \n",
       "3      US  NaN     NaN         NaN  NaN  NaN  NaN  \n",
       "4      US  NaN     NaN         NaN  NaN  NaN  NaN  "
      ]
     },
     "execution_count": 313,
     "metadata": {},
     "output_type": "execute_result"
    }
   ],
   "source": [
    "bene_acct = pd.merge(transactions, accounts, how='left',\n",
    "                     left_on=['bene_acct'], right_on=['acct_id'])\n",
    "pd.set_option('display.max_columns', None)\n",
    "bene_acct.head()\n"
   ]
  },
  {
   "cell_type": "code",
   "execution_count": 314,
   "metadata": {},
   "outputs": [
    {
     "data": {
      "text/plain": [
       "<AxesSubplot:xlabel='initial_deposit', ylabel='Density'>"
      ]
     },
     "execution_count": 314,
     "metadata": {},
     "output_type": "execute_result"
    },
    {
     "data": {
      "image/png": "[encoded data removed]",
      "text/plain": [
       "<Figure size 432x288 with 1 Axes>"
      ]
     },
     "metadata": {},
     "output_type": "display_data"
    }
   ],
   "source": [
    "sns.histplot(data=bene_acct, x='initial_deposit', hue='is_sar',\n",
    "             stat='density', common_norm=False, kde=True)\n"
   ]
  },
  {
   "cell_type": "code",
   "execution_count": 315,
   "metadata": {},
   "outputs": [
    {
     "name": "stdout",
     "output_type": "stream",
     "text": [
      "0         908\n",
      "1          55\n",
      "2         905\n",
      "3         543\n",
      "4         928\n",
      "         ... \n",
      "102915    332\n",
      "102916    769\n",
      "102917    106\n",
      "102918     90\n",
      "102919    932\n",
      "Length: 102920, dtype: int16\n"
     ]
    },
    {
     "data": {
      "text/plain": [
       "<AxesSubplot:xlabel='dsply_nm', ylabel='Density'>"
      ]
     },
     "execution_count": 315,
     "metadata": {},
     "output_type": "execute_result"
    },
    {
     "data": {
      "image/png": "[encoded data removed]",
      "text/plain": [
       "<Figure size 432x288 with 1 Axes>"
      ]
     },
     "metadata": {},
     "output_type": "display_data"
    }
   ],
   "source": [
    "bene_acct['dsply_nm'] = bene_acct.dsply_nm.astype('category')\n",
    "print(bene_acct['dsply_nm'].cat.codes)\n",
    "bene_acct['dsply_nm'] = bene_acct['dsply_nm'].cat.codes\n",
    "sns.histplot(data=bene_acct, x='dsply_nm', hue='is_sar',\n",
    "             stat='density', common_norm=False, kde=True)\n"
   ]
  }
 ],
 "metadata": {
  "interpreter": {
   "hash": "081f8b412a3cf5b198b7dd3176d6910bcda0c388e53a2c537242c2e5d7c4023e"
  },
  "kernelspec": {
   "display_name": "Python 3.8.11 64-bit ('atom': conda)",
   "name": "python3"
  },
  "language_info": {
   "codemirror_mode": {
    "name": "ipython",
    "version": 3
   },
   "file_extension": ".py",
   "mimetype": "text/x-python",
   "name": "python",
   "nbconvert_exporter": "python",
   "pygments_lexer": "ipython3",
   "version": "3.8.11"
  },
  "orig_nbformat": 4
 },
 "nbformat": 4,
 "nbformat_minor": 2
}
